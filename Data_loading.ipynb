{
 "cells": [
  {
   "cell_type": "code",
   "execution_count": 7,
   "id": "25715c54",
   "metadata": {},
   "outputs": [],
   "source": [
    "#Seq is string\n",
    "import csv\n",
    "\n",
    "def seq_to_num(seq):\n",
    "    Letters = ['A','R','N','D','Q','E','G','H','I','L','K','M','F','S','T','W','Y','V']\n",
    "    num_list = [Letters.index(s) for s in seq]\n",
    "    return num_list\n"
   ]
  },
  {
   "cell_type": "code",
   "execution_count": 10,
   "id": "beae0aa4",
   "metadata": {},
   "outputs": [],
   "source": [
    "\n",
    "features = []\n",
    "labels = []\n",
    "\n",
    "with open('PET_SCORES.txt', 'r') as file:\n",
    "    next(file)\n",
    "    \n",
    "    for _ in range(10):\n",
    "        line = next(file).strip()  \n",
    "        \n",
    "        columns = line.split()\n",
    "        \n",
    "        short_sequence = columns[1]\n",
    "        label = float(columns[2])\n",
    "        \n",
    "        feature = seq_to_num(short_sequence)\n",
    "        \n",
    "        features.append(feature)\n",
    "        labels.append(label)\n",
    "\n",
    "# Specify the output CSV file path\n",
    "output_csv_file = 'test_data.csv'\n",
    "\n",
    "# Convert the features to a string representation\n",
    "features_as_strings = [' '.join(map(str, feature)) for feature in features]\n",
    "\n",
    "# Combine features and labels\n",
    "data_to_save = list(zip(features_as_strings, labels))\n",
    "\n",
    "# Write the data to the CSV file\n",
    "with open(output_csv_file, 'w', newline='') as csvfile:\n",
    "    csv_writer = csv.writer(csvfile)\n",
    "    \n",
    "    \n",
    "    # Write each row of data\n",
    "    csv_writer.writerows(data_to_save)"
   ]
  },
  {
   "cell_type": "code",
   "execution_count": null,
   "id": "dfb60409",
   "metadata": {},
   "outputs": [],
   "source": []
  }
 ],
 "metadata": {
  "kernelspec": {
   "display_name": "Python 3 (ipykernel)",
   "language": "python",
   "name": "python3"
  },
  "language_info": {
   "codemirror_mode": {
    "name": "ipython",
    "version": 3
   },
   "file_extension": ".py",
   "mimetype": "text/x-python",
   "name": "python",
   "nbconvert_exporter": "python",
   "pygments_lexer": "ipython3",
   "version": "3.10.9"
  }
 },
 "nbformat": 4,
 "nbformat_minor": 5
}
