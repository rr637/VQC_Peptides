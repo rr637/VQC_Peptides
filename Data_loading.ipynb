{
 "cells": [
  {
   "cell_type": "code",
   "execution_count": 20,
   "id": "25715c54",
   "metadata": {},
   "outputs": [],
   "source": [
    "#Seq is string\n",
    "import csv\n",
    "from sklearn.model_selection import train_test_split\n",
    "\n",
    "def seq_to_num(seq):\n",
    "    Letters = ['A','R','N','D','Q','E','G','H','I','L','K','M','F','S','T','W','Y','V']\n",
    "    num_list = [float(Letters.index(s)) for s in seq]\n",
    "    return num_list\n",
    "def seq_2_to_num(seq):\n",
    "    num_list = []\n",
    "    for i in range(6):\n",
    "        if seq[i] in ('NTRP','CTRP', 'TRP'):\n",
    "            num_list.append(0.0)\n",
    "        if seq[i] in ('NHIE', 'CHIE', 'HIE'):\n",
    "            num_list.append(1.0)\n",
    "        if seq[i] in ('NMET', 'CMET', 'MET'):\n",
    "            num_list.append(2.0)\n",
    "        if seq[i] in ('NASN' , 'CASN', 'ASN'):\n",
    "            num_list.append(3.0)\n",
    "        if seq[i] in ('NALA', 'CALA', 'ALA'):\n",
    "            num_list.append(4.0)\n",
    "    return num_list\n",
    "            "
   ]
  },
  {
   "cell_type": "code",
   "execution_count": 21,
   "id": "beae0aa4",
   "metadata": {},
   "outputs": [
    {
     "name": "stdout",
     "output_type": "stream",
     "text": [
      "-0.8225714285714285\n",
      "441978\n"
     ]
    }
   ],
   "source": [
    "\n",
    "data = []\n",
    "labels = []\n",
    "with open('PET_SCORES.txt', 'r') as file:\n",
    "    next(file)\n",
    "    line_count = 0\n",
    "    for line in file:\n",
    "        if \"Sequence\" in line:\n",
    "            continue\n",
    "        line_count += 1 \n",
    "        columns = line.split()\n",
    "        \n",
    "        short_sequence = columns[1]\n",
    "        label = (float(columns[2])/35)+1\n",
    "        labels.append(label)\n",
    "        \n",
    "        feature = seq_to_num(short_sequence)\n",
    "        feature.append(label)\n",
    "        data.append(feature)\n",
    "print(min(labels))\n",
    "print(line_count)\n",
    "# Save the data to a CSV file\n",
    "# with open('data.csv', 'w', newline='') as csvfile:\n",
    "#     csv_writer = csv.writer(csvfile)\n",
    "#     csv_writer.writerows(data)\n",
    "\n",
    "\n",
    "\n",
    "\n"
   ]
  },
  {
   "cell_type": "code",
   "execution_count": 22,
   "id": "dfb60409",
   "metadata": {},
   "outputs": [
    {
     "name": "stdout",
     "output_type": "stream",
     "text": [
      "-0.704076923076923\n",
      "0.9994615384615385\n",
      "4377\n"
     ]
    }
   ],
   "source": [
    "data = []\n",
    "labels = []\n",
    "for i in range(20):\n",
    "\n",
    "    with open(f'ExhaustiveSampling_5AATypes_07Oct2023/structure{i+1}_data.txt', 'r') as file:\n",
    "        next(file)\n",
    "        line_count = 0\n",
    "        for line in file:\n",
    "            if \"Sequence\" in line:\n",
    "                continue\n",
    "            line_count += 1 \n",
    "            columns = line.split()\n",
    "\n",
    "            if len(columns) >= 7:\n",
    "                if float(columns[6]) < 0.0:\n",
    "                    short_sequence = [columns[i] for i in range(6)]\n",
    "                    label = (float(columns[6])/13) + 1\n",
    "                    labels.append(label)\n",
    "\n",
    "                    feature = seq_2_to_num(short_sequence)\n",
    "                    feature.append(label)\n",
    "                    data.append(feature)\n",
    "            else:\n",
    "                continue\n",
    "print(min(labels))\n",
    "print(max(labels))\n",
    "print(line_count)\n",
    "\n",
    "with open('6AA_data_neg_norm.csv', 'w', newline='') as csvfile:\n",
    "    csv_writer = csv.writer(csvfile)\n",
    "    csv_writer.writerows(data)\n"
   ]
  },
  {
   "cell_type": "code",
   "execution_count": 18,
   "id": "0674ba3a",
   "metadata": {},
   "outputs": [
    {
     "data": {
      "image/png": "[encoded data removed]",
      "text/plain": [
       "<Figure size 640x480 with 1 Axes>"
      ]
     },
     "metadata": {},
     "output_type": "display_data"
    },
    {
     "name": "stdout",
     "output_type": "stream",
     "text": [
      "-0.007\n",
      "95207\n"
     ]
    }
   ],
   "source": [
    "data = []\n",
    "import numpy as np\n",
    "import matplotlib.pyplot as plt\n",
    "\n",
    "with open('6AA_data_neg.csv', 'r') as file:\n",
    "    for line in file:\n",
    "        columns = line.strip().split(',')\n",
    "        if len(columns) >= 7:\n",
    "            label = float(columns[-1])\n",
    "            data.append(label)\n",
    "\n",
    "# Create a histogram of the data\n",
    "plt.hist(data, bins=500, color='blue', edgecolor='black')\n",
    "plt.xlabel('Binding Enthalpies')\n",
    "plt.ylabel('Frequency')\n",
    "plt.title('Distribution of Binding Enthalpies')\n",
    "plt.grid(True)\n",
    "\n",
    "# Show the plot\n",
    "plt.show()\n",
    "print(max(data))\n",
    "print(len(data))"
   ]
  },
  {
   "cell_type": "code",
   "execution_count": null,
   "id": "38d453ea",
   "metadata": {},
   "outputs": [],
   "source": []
  }
 ],
 "metadata": {
  "kernelspec": {
   "display_name": "Python 3 (ipykernel)",
   "language": "python",
   "name": "python3"
  },
  "language_info": {
   "codemirror_mode": {
    "name": "ipython",
    "version": 3
   },
   "file_extension": ".py",
   "mimetype": "text/x-python",
   "name": "python",
   "nbconvert_exporter": "python",
   "pygments_lexer": "ipython3",
   "version": "3.10.9"
  }
 },
 "nbformat": 4,
 "nbformat_minor": 5
}
