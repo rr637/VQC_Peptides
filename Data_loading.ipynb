{
 "cells": [
  {
   "cell_type": "code",
   "execution_count": 2,
   "id": "25715c54",
   "metadata": {},
   "outputs": [],
   "source": [
    "#Seq is string\n",
    "import csv\n",
    "from sklearn.model_selection import train_test_split\n",
    "\n",
    "def seq_to_num(seq):\n",
    "    Letters = ['A','R','N','D','Q','E','G','H','I','L','K','M','F','S','T','W','Y','V']\n",
    "    num_list = [float(Letters.index(s)) for s in seq]\n",
    "    return num_list\n"
   ]
  },
  {
   "cell_type": "code",
   "execution_count": 4,
   "id": "beae0aa4",
   "metadata": {},
   "outputs": [
    {
     "name": "stdout",
     "output_type": "stream",
     "text": [
      "-0.8225714285714285\n",
      "441978\n"
     ]
    }
   ],
   "source": [
    "\n",
    "data = []\n",
    "labels = []\n",
    "with open('PET_SCORES.txt', 'r') as file:\n",
    "    next(file)\n",
    "    line_count = 0\n",
    "    for line in file:\n",
    "        if \"Sequence\" in line:\n",
    "            continue\n",
    "        line_count += 1 \n",
    "        columns = line.split()\n",
    "        \n",
    "        short_sequence = columns[1]\n",
    "        label = (float(columns[2])/35)+1\n",
    "        labels.append(label)\n",
    "        \n",
    "        feature = seq_to_num(short_sequence)\n",
    "        feature.append(label)\n",
    "        data.append(feature)\n",
    "print(min(labels))\n",
    "print(line_count)\n",
    "# Save the data to a CSV file\n",
    "# with open('data.csv', 'w', newline='') as csvfile:\n",
    "#     csv_writer = csv.writer(csvfile)\n",
    "#     csv_writer.writerows(data)\n",
    "\n",
    "\n",
    "\n",
    "\n"
   ]
  },
  {
   "cell_type": "code",
   "execution_count": null,
   "id": "dfb60409",
   "metadata": {},
   "outputs": [],
   "source": []
  },
  {
   "cell_type": "code",
   "execution_count": null,
   "id": "0674ba3a",
   "metadata": {},
   "outputs": [],
   "source": []
  }
 ],
 "metadata": {
  "kernelspec": {
   "display_name": "Python 3 (ipykernel)",
   "language": "python",
   "name": "python3"
  },
  "language_info": {
   "codemirror_mode": {
    "name": "ipython",
    "version": 3
   },
   "file_extension": ".py",
   "mimetype": "text/x-python",
   "name": "python",
   "nbconvert_exporter": "python",
   "pygments_lexer": "ipython3",
   "version": "3.10.4"
  }
 },
 "nbformat": 4,
 "nbformat_minor": 5
}
