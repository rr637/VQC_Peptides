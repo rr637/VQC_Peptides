{
 "cells": [
  {
   "cell_type": "code",
   "execution_count": 6,
   "id": "eacabc6b",
   "metadata": {},
   "outputs": [],
   "source": [
    "import pennylane as qml\n"
   ]
  },
  {
   "cell_type": "code",
   "execution_count": 7,
   "id": "4d236dc7",
   "metadata": {},
   "outputs": [
    {
     "name": "stdout",
     "output_type": "stream",
     "text": [
      "[<Dataset = description: qchem/H2/STO-3G/1.1, attributes: ['molecule', 'hamiltonian', ...]>]\n"
     ]
    }
   ],
   "source": [
    "H2datasets = qml.data.load(\"qchem\", molname=\"H2\", basis=\"STO-3G\", bondlength=1.1)\n",
    "print(H2datasets)"
   ]
  },
  {
   "cell_type": "code",
   "execution_count": null,
   "id": "5a2dfae8",
   "metadata": {},
   "outputs": [],
   "source": [
    "qml.data.load(\"qchem\", molname=\"C2H2\", bondlength=1.203, basis=\"STO-3G\")\n",
    "print(H2data.hf_state"
   ]
  },
  {
   "cell_type": "code",
   "execution_count": 5,
   "id": "783e0959",
   "metadata": {},
   "outputs": [
    {
     "name": "stdout",
     "output_type": "stream",
     "text": [
      "Requirement already satisfied: aiohttp in /Users/rodrofougaran/anaconda3/envs/SULI/lib/python3.10/site-packages (3.8.4)\n",
      "Requirement already satisfied: fsspec in /Users/rodrofougaran/anaconda3/envs/SULI/lib/python3.10/site-packages (2023.6.0)\n",
      "Collecting h5py\n",
      "  Downloading h5py-3.10.0-cp310-cp310-macosx_10_9_x86_64.whl.metadata (2.5 kB)\n",
      "Requirement already satisfied: attrs>=17.3.0 in /Users/rodrofougaran/anaconda3/envs/SULI/lib/python3.10/site-packages (from aiohttp) (23.1.0)\n",
      "Requirement already satisfied: charset-normalizer<4.0,>=2.0 in /Users/rodrofougaran/anaconda3/envs/SULI/lib/python3.10/site-packages (from aiohttp) (2.0.4)\n",
      "Requirement already satisfied: multidict<7.0,>=4.5 in /Users/rodrofougaran/anaconda3/envs/SULI/lib/python3.10/site-packages (from aiohttp) (6.0.4)\n",
      "Requirement already satisfied: async-timeout<5.0,>=4.0.0a3 in /Users/rodrofougaran/anaconda3/envs/SULI/lib/python3.10/site-packages (from aiohttp) (4.0.2)\n",
      "Requirement already satisfied: yarl<2.0,>=1.0 in /Users/rodrofougaran/anaconda3/envs/SULI/lib/python3.10/site-packages (from aiohttp) (1.9.2)\n",
      "Requirement already satisfied: frozenlist>=1.1.1 in /Users/rodrofougaran/anaconda3/envs/SULI/lib/python3.10/site-packages (from aiohttp) (1.3.3)\n",
      "Requirement already satisfied: aiosignal>=1.1.2 in /Users/rodrofougaran/anaconda3/envs/SULI/lib/python3.10/site-packages (from aiohttp) (1.3.1)\n",
      "Requirement already satisfied: numpy>=1.17.3 in /Users/rodrofougaran/anaconda3/envs/SULI/lib/python3.10/site-packages (from h5py) (1.23.3)\n",
      "Requirement already satisfied: idna>=2.0 in /Users/rodrofougaran/anaconda3/envs/SULI/lib/python3.10/site-packages (from yarl<2.0,>=1.0->aiohttp) (3.4)\n",
      "Downloading h5py-3.10.0-cp310-cp310-macosx_10_9_x86_64.whl (3.3 MB)\n",
      "\u001b[2K   \u001b[90m━━━━━━━━━━━━━━━━━━━━━━━━━━━━━━━━━━━━━━━━\u001b[0m \u001b[32m3.3/3.3 MB\u001b[0m \u001b[31m8.4 MB/s\u001b[0m eta \u001b[36m0:00:00\u001b[0m00:01\u001b[0m00:01\u001b[0m\n",
      "\u001b[?25hInstalling collected packages: h5py\n",
      "Successfully installed h5py-3.10.0\n",
      "Note: you may need to restart the kernel to use updated packages.\n"
     ]
    }
   ],
   "source": [
    "]"
   ]
  },
  {
   "cell_type": "code",
   "execution_count": null,
   "id": "4ce88a61",
   "metadata": {},
   "outputs": [],
   "source": []
  }
 ],
 "metadata": {
  "kernelspec": {
   "display_name": "Python 3 (ipykernel)",
   "language": "python",
   "name": "python3"
  },
  "language_info": {
   "codemirror_mode": {
    "name": "ipython",
    "version": 3
   },
   "file_extension": ".py",
   "mimetype": "text/x-python",
   "name": "python",
   "nbconvert_exporter": "python",
   "pygments_lexer": "ipython3",
   "version": "3.10.4"
  }
 },
 "nbformat": 4,
 "nbformat_minor": 5
}
